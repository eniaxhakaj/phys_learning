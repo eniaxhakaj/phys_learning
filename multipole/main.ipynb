{
 "cells": [
  {
   "cell_type": "markdown",
   "metadata": {},
   "source": [
    "# Multipole expansion"
   ]
  },
  {
   "cell_type": "markdown",
   "metadata": {
    "ExecuteTime": {
     "end_time": "2018-03-23T05:11:58.980612Z",
     "start_time": "2018-03-23T05:11:58.971898Z"
    }
   },
   "source": [
    "V = c * q / r\n",
    "\n",
    "For this we will ignore the constant (1/(4 pi e0))\n",
    "\n",
    "V = q / r"
   ]
  },
  {
   "cell_type": "markdown",
   "metadata": {
    "heading_collapsed": true
   },
   "source": [
    "### Imports"
   ]
  },
  {
   "cell_type": "code",
   "execution_count": 35,
   "metadata": {
    "ExecuteTime": {
     "end_time": "2018-03-23T06:29:20.554425Z",
     "start_time": "2018-03-23T06:29:20.524163Z"
    },
    "hidden": true
   },
   "outputs": [
    {
     "name": "stdout",
     "output_type": "stream",
     "text": [
      "The autoreload extension is already loaded. To reload it, use:\n",
      "  %reload_ext autoreload\n"
     ]
    },
    {
     "data": {
      "text/html": [
       "<style>.container { width:90% !important; }</style>"
      ],
      "text/plain": [
       "<IPython.core.display.HTML object>"
      ]
     },
     "metadata": {},
     "output_type": "display_data"
    }
   ],
   "source": [
    "%load_ext autoreload\n",
    "%autoreload 2\n",
    "%matplotlib inline\n",
    "\n",
    "from IPython.core.display import display, HTML\n",
    "display(HTML(\"<style>.container { width:90% !important; }</style>\"))"
   ]
  },
  {
   "cell_type": "code",
   "execution_count": 36,
   "metadata": {
    "ExecuteTime": {
     "end_time": "2018-03-23T06:29:20.743436Z",
     "start_time": "2018-03-23T06:29:20.701002Z"
    },
    "hidden": true
   },
   "outputs": [],
   "source": [
    "import numpy as np\n",
    "import matplotlib.pyplot as plt\n",
    "import matplotlib as mpl"
   ]
  },
  {
   "cell_type": "markdown",
   "metadata": {},
   "source": [
    "## Charge distribution and true Potential"
   ]
  },
  {
   "cell_type": "code",
   "execution_count": 238,
   "metadata": {
    "ExecuteTime": {
     "end_time": "2018-03-23T07:59:03.747092Z",
     "start_time": "2018-03-23T07:59:03.730063Z"
    }
   },
   "outputs": [],
   "source": [
    "charges = np.array([\n",
    "    [1, 0, 0.5],\n",
    "    [-1, 0, -0.5],\n",
    "])\n",
    "charges[:,0] *= 100"
   ]
  },
  {
   "cell_type": "code",
   "execution_count": 239,
   "metadata": {
    "ExecuteTime": {
     "end_time": "2018-03-23T07:59:04.183966Z",
     "start_time": "2018-03-23T07:59:04.167871Z"
    },
    "scrolled": false
   },
   "outputs": [],
   "source": [
    "lim, num = 2, 100\n",
    "x = np.linspace(-lim, lim, num=num)\n",
    "y = np.linspace(-lim, lim, num=num)[:, np.newaxis]\n"
   ]
  },
  {
   "cell_type": "code",
   "execution_count": 240,
   "metadata": {
    "ExecuteTime": {
     "end_time": "2018-03-23T07:59:04.472708Z",
     "start_time": "2018-03-23T07:59:04.439025Z"
    }
   },
   "outputs": [],
   "source": [
    "def logify_v(v):\n",
    "    s = np.sign(v)\n",
    "    s[s == 0] = 1\n",
    "    return s * np.log10(np.abs(v + s))"
   ]
  },
  {
   "cell_type": "code",
   "execution_count": 241,
   "metadata": {
    "ExecuteTime": {
     "end_time": "2018-03-23T07:59:05.261239Z",
     "start_time": "2018-03-23T07:59:04.962802Z"
    }
   },
   "outputs": [
    {
     "data": {
      "text/plain": [
       "<matplotlib.colorbar.Colorbar at 0x7f2505c09ac8>"
      ]
     },
     "execution_count": 241,
     "metadata": {},
     "output_type": "execute_result"
    },
    {
     "data": {
      "image/png": "[encoded data removed]",
      "text/plain": [
       "<matplotlib.figure.Figure at 0x7f2506dac4e0>"
      ]
     },
     "metadata": {},
     "output_type": "display_data"
    }
   ],
   "source": [
    "v = np.zeros_like(x + y)\n",
    "for charge in charges:\n",
    "    v += charge[0] / np.sqrt((charge[1] - x)**2 + (charge[2] - y)**2)\n",
    "\n",
    "v = logify_v(v)\n",
    "clim = np.max(np.abs(v))\n",
    "\n",
    "img = plt.imshow(v, cmap=\"coolwarm\", vmin=-clim, vmax=clim)\n",
    "plt.colorbar(img)"
   ]
  },
  {
   "cell_type": "markdown",
   "metadata": {},
   "source": [
    "## Monopole"
   ]
  },
  {
   "cell_type": "markdown",
   "metadata": {},
   "source": [
    "In all of these cases we assume we are taking the x-pole about (0, 0)"
   ]
  },
  {
   "cell_type": "code",
   "execution_count": 242,
   "metadata": {
    "ExecuteTime": {
     "end_time": "2018-03-23T07:59:09.543162Z",
     "start_time": "2018-03-23T07:59:09.279500Z"
    }
   },
   "outputs": [
    {
     "data": {
      "text/plain": [
       "<matplotlib.colorbar.Colorbar at 0x7f2505c2e048>"
      ]
     },
     "execution_count": 242,
     "metadata": {},
     "output_type": "execute_result"
    },
    {
     "data": {
      "image/png": "[encoded data removed]",
      "text/plain": [
       "<matplotlib.figure.Figure at 0x7f25067966d8>"
      ]
     },
     "metadata": {},
     "output_type": "display_data"
    }
   ],
   "source": [
    "total_q = np.sum(charges[:,0])\n",
    "r = np.sqrt(x**2 + y**2)\n",
    "\n",
    "v = total_q / r\n",
    "v = logify_v(v)\n",
    "\n",
    "clim = np.max(np.abs(v))\n",
    "\n",
    "img = plt.imshow(v, cmap=\"coolwarm\", vmin=-clim, vmax=clim)\n",
    "plt.colorbar(img)"
   ]
  },
  {
   "cell_type": "markdown",
   "metadata": {},
   "source": [
    "## Dipole"
   ]
  },
  {
   "cell_type": "code",
   "execution_count": 243,
   "metadata": {
    "ExecuteTime": {
     "end_time": "2018-03-23T07:59:11.183255Z",
     "start_time": "2018-03-23T07:59:10.852708Z"
    }
   },
   "outputs": [
    {
     "name": "stdout",
     "output_type": "stream",
     "text": [
      "[   0.  100.]\n"
     ]
    },
    {
     "data": {
      "text/plain": [
       "<matplotlib.colorbar.Colorbar at 0x7f25059c9160>"
      ]
     },
     "execution_count": 243,
     "metadata": {},
     "output_type": "execute_result"
    },
    {
     "data": {
      "image/png": "[encoded data removed]",
      "text/plain": [
       "<matplotlib.figure.Figure at 0x7f2505b37b38>"
      ]
     },
     "metadata": {},
     "output_type": "display_data"
    }
   ],
   "source": [
    "dipole_moment = np.sum(np.multiply(charges[:,0][:, np.newaxis], charges[:,1:]), axis=0)\n",
    "print(dipole_moment)\n",
    "r = np.sqrt(x**2 + y**2)\n",
    "r_grid = np.zeros((len(x), len(y), 2))\n",
    "r_grid[:,:,0] = x\n",
    "r_grid[:,:,1] = y\n",
    "\n",
    "v = np.dot(r_grid, dipole_moment) / r**2\n",
    "v = logify_v(v)\n",
    "\n",
    "clim = np.max(np.abs(v))\n",
    "img = plt.imshow(v, cmap=\"coolwarm\", vmin=-clim, vmax=clim)\n",
    "plt.colorbar(img)"
   ]
  },
  {
   "cell_type": "markdown",
   "metadata": {},
   "source": [
    "## Quadrupole"
   ]
  },
  {
   "cell_type": "code",
   "execution_count": 257,
   "metadata": {
    "ExecuteTime": {
     "end_time": "2018-03-23T08:04:04.575986Z",
     "start_time": "2018-03-23T08:04:04.547256Z"
    }
   },
   "outputs": [
    {
     "data": {
      "text/plain": [
       "array([[-4.        , -3.91939598, -3.83920008, ...,  1.91837568,\n",
       "         1.9593919 ,  2.        ],\n",
       "       [-3.91939598, -3.84001632, -3.76104479, ...,  1.8802163 ,\n",
       "         1.92000816,  1.9593919 ],\n",
       "       [-3.83920008, -3.76104479, -3.68329762, ...,  1.84164881,\n",
       "         1.8802163 ,  1.91837568],\n",
       "       ..., \n",
       "       [ 1.91837568,  1.8802163 ,  1.84164881, ..., -3.68329762,\n",
       "        -3.76104479, -3.83920008],\n",
       "       [ 1.9593919 ,  1.92000816,  1.8802163 , ..., -3.76104479,\n",
       "        -3.84001632, -3.91939598],\n",
       "       [ 2.        ,  1.9593919 ,  1.91837568, ..., -3.83920008,\n",
       "        -3.91939598, -4.        ]])"
      ]
     },
     "execution_count": 257,
     "metadata": {},
     "output_type": "execute_result"
    }
   ],
   "source": [
    "3 / 2 * np.dot(r_grid, charges[:,1:])[:,:,1]**2 - 1 / 2 * r**2\n"
   ]
  }
 ],
 "metadata": {
  "kernelspec": {
   "display_name": "phys_learning",
   "language": "python",
   "name": "phys_learning"
  },
  "language_info": {
   "codemirror_mode": {
    "name": "ipython",
    "version": 3
   },
   "file_extension": ".py",
   "mimetype": "text/x-python",
   "name": "python",
   "nbconvert_exporter": "python",
   "pygments_lexer": "ipython3",
   "version": "3.6.4"
  },
  "toc": {
   "nav_menu": {},
   "number_sections": true,
   "sideBar": true,
   "skip_h1_title": false,
   "title_cell": "Table of Contents",
   "title_sidebar": "Contents",
   "toc_cell": false,
   "toc_position": {
    "height": "calc(100% - 180px)",
    "left": "10px",
    "top": "150px",
    "width": "165px"
   },
   "toc_section_display": true,
   "toc_window_display": true
  }
 },
 "nbformat": 4,
 "nbformat_minor": 2
}
