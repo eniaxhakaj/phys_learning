{
 "cells": [
  {
   "cell_type": "markdown",
   "metadata": {
    "ExecuteTime": {
     "end_time": "2018-08-15T21:20:16.735617Z",
     "start_time": "2018-08-15T21:20:16.728477Z"
    }
   },
   "source": [
    "# A manually worked GP"
   ]
  },
  {
   "cell_type": "code",
   "execution_count": 73,
   "metadata": {
    "ExecuteTime": {
     "end_time": "2018-08-15T21:57:45.524745Z",
     "start_time": "2018-08-15T21:57:45.516195Z"
    }
   },
   "outputs": [],
   "source": [
    "import numpy as np\n",
    "import matplotlib.pyplot as plt"
   ]
  },
  {
   "cell_type": "code",
   "execution_count": 151,
   "metadata": {
    "ExecuteTime": {
     "end_time": "2018-08-15T22:24:17.244532Z",
     "start_time": "2018-08-15T22:24:17.066149Z"
    }
   },
   "outputs": [
    {
     "data": {
      "image/png": "[encoded data removed]",
      "text/plain": [
       "<Figure size 432x288 with 1 Axes>"
      ]
     },
     "metadata": {},
     "output_type": "display_data"
    }
   ],
   "source": [
    "# We have some data with some uncertainty and we want to predict some other data\n",
    "x = np.array([-1, -0.75, -0.4, -0.25, 0])\n",
    "y = np.array([-1.2, -0.4, 0.2, 0.5, 0.9])\n",
    "err = 0.3\n",
    "plt.errorbar(x, y, yerr=err, linestyle=\"\", marker=\".\", color=\"black\", ecolor=\"red\")\n",
    "\n",
    "goal_x = np.array([0.1])"
   ]
  },
  {
   "cell_type": "code",
   "execution_count": 180,
   "metadata": {
    "ExecuteTime": {
     "end_time": "2018-08-15T22:27:17.144357Z",
     "start_time": "2018-08-15T22:27:17.121032Z"
    }
   },
   "outputs": [],
   "source": [
    "# We can define a covariance function that describes how similar points\n",
    "# at different locations should be\n",
    "\n",
    "# There are these two hyperparameters\n",
    "max_covariance = 1.27\n",
    "length_scale = 0.1\n",
    "\n",
    "def covariance_function(x):\n",
    "    xCol = np.expand_dims(x, 1)\n",
    "    xRow = np.expand_dims(x, 0)\n",
    "    basic_cov = max_covariance * np.exp(-(xRow - xCol)**2/(2*length_scale))\n",
    "    data_err_cov = np.identity(len(x)) * err**2\n",
    "    return basic_cov + data_err_cov\n"
   ]
  },
  {
   "cell_type": "code",
   "execution_count": 181,
   "metadata": {
    "ExecuteTime": {
     "end_time": "2018-08-15T22:27:17.336461Z",
     "start_time": "2018-08-15T22:27:17.323566Z"
    }
   },
   "outputs": [],
   "source": [
    "# We can build up the covariance matrix for the known data + the test data\n",
    "# Also need a mean\n",
    "mean = 0\n",
    "cov_matrix = covariance_function(np.concatenate((x, goal_x)))"
   ]
  },
  {
   "cell_type": "code",
   "execution_count": 182,
   "metadata": {
    "ExecuteTime": {
     "end_time": "2018-08-15T22:27:17.581273Z",
     "start_time": "2018-08-15T22:27:17.522131Z"
    }
   },
   "outputs": [
    {
     "name": "stdout",
     "output_type": "stream",
     "text": [
      "0.8300935331811287\n",
      "0.25985606279864437\n"
     ]
    }
   ],
   "source": [
    "# We now have a mean and a covariance matrix - this is all we need to sample from a mv gaussian\n",
    "# Our data y values are the samples in the first n dimensions of the mv gaussian\n",
    "# We now need to take the sample for the final, test dimension.\n",
    "# However, the probability for draws in that dimension depend on what we got for all the previous draws\n",
    "# They are correlated\n",
    "# We (I can't yet...) can do some matrix algebra to find what p(test_y_value | training_y_values)\n",
    "\n",
    "cov_test_with_data = cov_matrix[-1 ,:-1]\n",
    "cov_data_with_data = cov_matrix[:-1,:-1]\n",
    "cov_test_with_test = cov_matrix[-1 , -1]\n",
    "\n",
    "pred_y = np.dot(cov_test_with_data, np.matmul(np.linalg.inv(cov_data_with_data), y))\n",
    "print(pred_y)\n",
    "\n",
    "var_y = cov_test_with_test - np.dot(\n",
    "    cov_test_with_data, np.matmul(\n",
    "        np.linalg.inv(cov_data_with_data), cov_test_with_data))\n",
    "print(var_y)"
   ]
  },
  {
   "cell_type": "markdown",
   "metadata": {},
   "source": [
    "## Predict a large numpy of data points"
   ]
  },
  {
   "cell_type": "code",
   "execution_count": 183,
   "metadata": {
    "ExecuteTime": {
     "end_time": "2018-08-15T22:27:18.484630Z",
     "start_time": "2018-08-15T22:27:18.386548Z"
    }
   },
   "outputs": [],
   "source": [
    "goals = np.linspace(-1.5, 2, num=50)\n",
    "pred_ys = []\n",
    "var_ys = []\n",
    "for gx in goals:\n",
    "    cov_matrix = covariance_function(np.concatenate((x, [gx])))\n",
    "    cov_test_with_data = cov_matrix[-1 ,:-1]\n",
    "    cov_data_with_data = cov_matrix[:-1,:-1]\n",
    "    cov_test_with_test = cov_matrix[-1 , -1]\n",
    "\n",
    "    pred_ys.append(np.dot(cov_test_with_data, np.matmul(np.linalg.inv(cov_data_with_data), y)))\n",
    "\n",
    "    var_ys.append(cov_test_with_test - \n",
    "                  np.dot(cov_test_with_data, \n",
    "                         np.matmul(np.linalg.inv(cov_data_with_data), cov_test_with_data)))\n",
    "\n",
    "pred_ys = np.array(pred_ys)\n",
    "var_ys = np.array(var_ys)"
   ]
  },
  {
   "cell_type": "code",
   "execution_count": 184,
   "metadata": {
    "ExecuteTime": {
     "end_time": "2018-08-15T22:27:19.233853Z",
     "start_time": "2018-08-15T22:27:18.940902Z"
    }
   },
   "outputs": [
    {
     "data": {
      "text/plain": [
       "<matplotlib.collections.PolyCollection at 0x7fc215843c50>"
      ]
     },
     "execution_count": 184,
     "metadata": {},
     "output_type": "execute_result"
    },
    {
     "data": {
      "image/png": "[encoded data removed]",
      "text/plain": [
       "<Figure size 432x288 with 1 Axes>"
      ]
     },
     "metadata": {},
     "output_type": "display_data"
    }
   ],
   "source": [
    "_, ax = plt.subplots()\n",
    "ax.errorbar(x, y, yerr=err, linestyle=\"\", marker=\".\", color=\"black\", ecolor=\"red\")\n",
    "\n",
    "ax.plot(goals, pred_ys)\n",
    "ax.fill_between(goals, pred_ys - np.sqrt(var_ys), pred_ys + np.sqrt(var_ys), alpha=0.3)"
   ]
  },
  {
   "cell_type": "code",
   "execution_count": null,
   "metadata": {},
   "outputs": [],
   "source": []
  }
 ],
 "metadata": {
  "kernelspec": {
   "display_name": "phys_learning",
   "language": "python",
   "name": "phys_learning"
  },
  "language_info": {
   "codemirror_mode": {
    "name": "ipython",
    "version": 3
   },
   "file_extension": ".py",
   "mimetype": "text/x-python",
   "name": "python",
   "nbconvert_exporter": "python",
   "pygments_lexer": "ipython3",
   "version": "3.6.6"
  },
  "toc": {
   "base_numbering": 1,
   "nav_menu": {},
   "number_sections": true,
   "sideBar": true,
   "skip_h1_title": false,
   "title_cell": "Table of Contents",
   "title_sidebar": "Contents",
   "toc_cell": false,
   "toc_position": {},
   "toc_section_display": true,
   "toc_window_display": true
  }
 },
 "nbformat": 4,
 "nbformat_minor": 2
}
